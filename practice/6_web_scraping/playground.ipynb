{
 "cells": [
  {
   "cell_type": "code",
   "execution_count": 93,
   "metadata": {},
   "outputs": [],
   "source": [
    "import requests\n",
    "from functools import cache\n",
    "import re\n",
    "\n",
    "from bs4 import BeautifulSoup"
   ]
  },
  {
   "cell_type": "markdown",
   "metadata": {},
   "source": [
    "# Drawing the ASCII table"
   ]
  },
  {
   "cell_type": "code",
   "execution_count": 178,
   "metadata": {},
   "outputs": [],
   "source": [
    "from prettytable import PrettyTable, TableStyle\n",
    "\n",
    "def draw_table(fields, data: list[list[any]], title=\"Title\") -> str:\n",
    "    table = PrettyTable()\n",
    "    table.field_names = fields\n",
    "    table.add_rows(data)\n",
    "\n",
    "    table.junction_char = '-'\n",
    "    table.align = 'l'\n",
    "\n",
    "    table_str = str(table)\n",
    "\n",
    "    # Strip the top border from table\n",
    "    table_str = table_str[table_str.find('\\n')+1:]\n",
    "    # Strip the bottom border from table\n",
    "    table_str = table_str[:table_str.rfind('\\n')]\n",
    "\n",
    "    ## Add title bar\n",
    "    width = table_str.find('\\n')\n",
    "    title_bar = title.center(width, '=')\n",
    "    table_str = title_bar + '\\n' + table_str\n",
    "\n",
    "    return table_str"
   ]
  },
  {
   "cell_type": "code",
   "execution_count": 179,
   "metadata": {},
   "outputs": [
    {
     "name": "stdout",
     "output_type": "stream",
     "text": [
      "==================================== 5 stocks with most youngest CEOs ===================================\n",
      "| Name        | Code | Country       | Employees | CEO Name                             | CEO Year Born |\n",
      "---------------------------------------------------------------------------------------------------------\n",
      "| Pfizer Inc. | PFE  | United States | 78500     | Dr. Albert Bourla D.V.M., DVM, Ph.D. | 1962          |\n"
     ]
    }
   ],
   "source": [
    "fields = [\"Name\", \"Code\", \"Country\", \"Employees\", \"CEO Name\", \"CEO Year Born\"]\n",
    "data = [[\"Pfizer Inc.\", \"PFE\", \"United States\", 78500, \"Dr. Albert Bourla D.V.M., DVM, Ph.D.\", 1962]]\n",
    "print(draw_table(fields, data, ' 5 stocks with most youngest CEOs '))"
   ]
  },
  {
   "cell_type": "markdown",
   "metadata": {},
   "source": [
    "# Scraping Data"
   ]
  },
  {
   "cell_type": "markdown",
   "metadata": {},
   "source": [
    "For the requests to pass:"
   ]
  },
  {
   "cell_type": "code",
   "execution_count": 11,
   "metadata": {},
   "outputs": [],
   "source": [
    "headers = {\n",
    "    'User-Agent': 'Mozilla/5.0 (Windows NT 10.0; Win64; x64) AppleWebKit/537.36 (KHTML, like Gecko) Chrome/58.0.3029.110 Safari/537.3'\n",
    "}"
   ]
  },
  {
   "cell_type": "markdown",
   "metadata": {},
   "source": [
    "We'll cache the request responses to not hit the rate limits and for faster testing"
   ]
  },
  {
   "cell_type": "code",
   "execution_count": 211,
   "metadata": {},
   "outputs": [],
   "source": [
    "## Make sure to not clear the cache on accident!\n",
    "response_cache = {}"
   ]
  },
  {
   "cell_type": "code",
   "execution_count": 13,
   "metadata": {},
   "outputs": [],
   "source": [
    "def request(url: str):\n",
    "    try:\n",
    "        return response_cache[url]\n",
    "    except:\n",
    "        pass\n",
    "    r = requests.get(url, headers=headers)\n",
    "    response_cache[url] = r\n",
    "    return r"
   ]
  },
  {
   "cell_type": "markdown",
   "metadata": {},
   "source": [
    "## Top 25 most active stocks"
   ]
  },
  {
   "cell_type": "code",
   "execution_count": 214,
   "metadata": {},
   "outputs": [
    {
     "name": "stdout",
     "output_type": "stream",
     "text": [
      "['F', 'NVDA', 'NIO', 'TSLA', 'GME', 'PLTR', 'MLGO', 'LCID', 'IQ', 'RIVN', 'SOFI', 'PSLV', 'AAL', 'NU', 'INTC', 'HOOD', 'WBD', 'SMCI', 'PFE', 'EDR', 'T', 'BTG', 'STLA', 'CORZ', 'LYG']\n"
     ]
    }
   ],
   "source": [
    "stocks = []\n",
    "stock_names = {}\n",
    "\n",
    "\n",
    "r = request('https://finance.yahoo.com/markets/stocks/most-active/?start=0&count=25')\n",
    "soup = BeautifulSoup(r.text, 'html.parser')\n",
    "\n",
    "ls = soup.find_all('table', class_='markets-table')\n",
    "assert len(ls) == 1\n",
    "table = ls[0]\n",
    "for row in table.find_all('tr')[1:]:\n",
    "    a = row.find('a', href=True)\n",
    "    symbol = a['href'].split('/')[-2]\n",
    "    name = row.find_all('td')[1].text.strip()\n",
    "    stock_names[symbol] = name\n",
    "    stocks.append(symbol)\n",
    "print(stocks)"
   ]
  },
  {
   "cell_type": "code",
   "execution_count": 215,
   "metadata": {},
   "outputs": [
    {
     "data": {
      "text/plain": [
       "200"
      ]
     },
     "execution_count": 215,
     "metadata": {},
     "output_type": "execute_result"
    }
   ],
   "source": [
    "r.status_code"
   ]
  },
  {
   "cell_type": "markdown",
   "metadata": {},
   "source": [
    "## 1. Top 5 stocks with youngest CEOs\n",
    "\n",
    "Fields: Country, Employees, CEO Name, CEO Year Born"
   ]
  },
  {
   "cell_type": "code",
   "execution_count": 50,
   "metadata": {},
   "outputs": [],
   "source": [
    "def get_data1(stock):\n",
    "    r = request(f'https://finance.yahoo.com/quote/{stock}/profile/')\n",
    "    soup = BeautifulSoup(r.text)\n",
    "    # assuming the CEO is on the first row\n",
    "    ceo_row = soup.find('table').find_all('tr')[1]    \n",
    "    try:\n",
    "        year = int(ceo_row.find_all('td')[-1].text)\n",
    "    except:\n",
    "        year = None\n",
    "    name = ceo_row.find('td').text.strip()\n",
    "    country = soup.find('div', class_='address').find_all('div')[-1].text.strip()\n",
    "\n",
    "    try:\n",
    "        dt = soup.find('dt', string=re.compile('.*Employees.*'))\n",
    "        employees = int(dt.find_next_sibling('dd').text.replace(',', ''))\n",
    "    except:\n",
    "        employees = None\n",
    "\n",
    "    return country, employees, name, year\n"
   ]
  },
  {
   "cell_type": "code",
   "execution_count": 208,
   "metadata": {},
   "outputs": [],
   "source": [
    "data1 = [(stock_names[s], s, *get_data1(s)) for s in stocks]\n",
    "# sort by age\n",
    "data1 = sorted(data1, key=lambda l: l[-1] or 0, reverse=True)"
   ]
  },
  {
   "cell_type": "code",
   "execution_count": 210,
   "metadata": {},
   "outputs": [
    {
     "name": "stdout",
     "output_type": "stream",
     "text": [
      "======================================== 5 stocks with the youngest CEOs ========================================\n",
      "| Name                    | Code | Country       | Employees | CEO Name                         | CEO Year Born |\n",
      "-----------------------------------------------------------------------------------------------------------------\n",
      "| Robinhood Markets, Inc. | HOOD | United States | 2300      | Mr. Vladimir  Tenev              | 1988          |\n",
      "| GameStop Corp.          | GME  | United States | None      | Mr. Ryan  Cohen                  | 1986          |\n",
      "| Rivian Automotive, Inc. | RIVN | United States | 14861     | Mr. Robert Joseph Scaringe Ph.D. | 1984          |\n",
      "| Grab Holdings Limited   | GRAB | Singapore     | 11267     | Mr. Ping Yeow  Tan               | 1983          |\n",
      "| MicroAlgo Inc.          | MLGO | China         | 86        | Mr. Min  Shu                     | 1977          |\n"
     ]
    }
   ],
   "source": [
    "fields = [\"Name\", \"Code\", \"Country\", \"Employees\", \"CEO Name\", \"CEO Year Born\"]\n",
    "print(draw_table(fields, data1[:5], \" 5 stocks with the youngest CEOs \"))"
   ]
  },
  {
   "cell_type": "markdown",
   "metadata": {},
   "source": [
    "## 2. Top 10 Best 52 week\n",
    "2. 10 stocks with best 52-Week Change. 52-Week Change placed on Statistics tab.\n",
    "\n",
    "Sheet's fields: Name, Code, 52-Week Change, Total Cash"
   ]
  },
  {
   "cell_type": "code",
   "execution_count": 199,
   "metadata": {},
   "outputs": [],
   "source": [
    "def get_data2(stock):\n",
    "    r = request(f'https://finance.yahoo.com/quote/{stock}/key-statistics/')\n",
    "    soup = BeautifulSoup(r.text)\n",
    "\n",
    "    change = None\n",
    "    pattern = re.compile(r'52 Week Change')\n",
    "    for dt in soup.find_all('td'):\n",
    "        if not pattern.search(dt.get_text(strip=True)):\n",
    "            continue\n",
    "        dd = dt.find_next_sibling('td')\n",
    "        change = float(dd.text[:-1])\n",
    "        break\n",
    "\n",
    "    cash = None\n",
    "    pattern = re.compile(r'Total Cash')\n",
    "    for dt in soup.find_all('td'):\n",
    "        if not pattern.search(dt.get_text(strip=True)):\n",
    "            continue\n",
    "        dd = dt.find_next_sibling('td')\n",
    "        cash = dd.text.strip()\n",
    "        break\n",
    "            \n",
    "    return change, cash"
   ]
  },
  {
   "cell_type": "code",
   "execution_count": 206,
   "metadata": {},
   "outputs": [],
   "source": [
    "data2 = [(stock_names[s], s, *get_data2(s)) for s in stocks]\n",
    "data2 = sorted(data2, key=lambda l: l[-2], reverse=True)"
   ]
  },
  {
   "cell_type": "code",
   "execution_count": 207,
   "metadata": {},
   "outputs": [
    {
     "name": "stdout",
     "output_type": "stream",
     "text": [
      "================== 10 stocks with best 52-Week Change =================\n",
      "| Name                       | Code | 52-Week Change (%) | Total Cash |\n",
      "-----------------------------------------------------------------------\n",
      "| Rigetti Computing, Inc.    | RGTI | 500.0              | 192.09M    |\n",
      "| Palantir Technologies Inc. | PLTR | 301.04             | 5.23B      |\n",
      "| IonQ, Inc.                 | IONQ | 148.25             | 340.29M    |\n",
      "| GameStop Corp.             | GME  | 126.52             | 4.77B      |\n",
      "| Robinhood Markets, Inc.    | HOOD | 122.21             | 12.31B     |\n",
      "| New Gold Inc.              | NGD  | 104.12             | 110.3M     |\n",
      "| Tesla, Inc.                | TSLA | 54.76              | 36.56B     |\n",
      "| Grab Holdings Limited      | GRAB | 52.23              | 5.68B      |\n",
      "| Apple Inc.                 | AAPL | 29.19              | 53.77B     |\n",
      "| NVIDIA Corporation         | NVDA | 25.9               | 43.21B     |\n"
     ]
    }
   ],
   "source": [
    "fields = [\"Name\", \"Code\", \"52-Week Change (%)\", \"Total Cash\"]\n",
    "print(draw_table(fields, data2[:10], \" 10 stocks with best 52-Week Change \"))"
   ]
  },
  {
   "cell_type": "markdown",
   "metadata": {},
   "source": [
    "## 3. Top 10 largest holds of Blackrock Inc\n",
    "10 largest holds of Blackrock Inc. You can find related info on the Holders tab.\n",
    "    Blackrock Inc is an investment management corporation.\n",
    "    \n",
    "    Sheet's fields: Name, Code, Shares, Date Reported, % Out, Value.\n",
    "    \n",
    "    All fields except first two should be taken from Holders tab.\n"
   ]
  },
  {
   "cell_type": "code",
   "execution_count": null,
   "metadata": {},
   "outputs": [
    {
     "data": {
      "text/plain": [
       "[('Vanguard Group Inc', '13.38M', 'Dec 31, 2024', '8.62%', '12,947,752,044'),\n",
       " ('Blackrock Inc.', '10.05M', 'Dec 31, 2024', '6.47%', '9,725,493,327'),\n",
       " ('State Street Corporation',\n",
       "  '6.3M',\n",
       "  'Dec 31, 2024',\n",
       "  '4.06%',\n",
       "  '6,100,242,469'),\n",
       " ('Temasek Holdings (Private) Limited',\n",
       "  '5.09M',\n",
       "  'Dec 31, 2024',\n",
       "  '3.28%',\n",
       "  '4,929,549,042'),\n",
       " ('Bank of America Corporation',\n",
       "  '4.99M',\n",
       "  'Dec 31, 2024',\n",
       "  '3.22%',\n",
       "  '4,833,220,621'),\n",
       " ('Morgan Stanley', '4.78M', 'Dec 31, 2024', '3.08%', '4,629,727,691'),\n",
       " ('Capital World Investors', '4.1M', 'Dec 31, 2024', '2.64%', '3,966,157,390'),\n",
       " ('Charles Schwab Investment Management, Inc.',\n",
       "  '3.74M',\n",
       "  'Dec 31, 2024',\n",
       "  '2.41%',\n",
       "  '3,618,374,611'),\n",
       " ('Capital Research Global Investors',\n",
       "  '3.26M',\n",
       "  'Dec 31, 2024',\n",
       "  '2.10%',\n",
       "  '3,151,117,062'),\n",
       " ('Geode Capital Management, LLC',\n",
       "  '3.01M',\n",
       "  'Dec 31, 2024',\n",
       "  '1.94%',\n",
       "  '2,910,368,121'),\n",
       " ('VANGUARD INDEX FUNDS-Vanguard Total Stock Market Index Fund',\n",
       "  '4.18M',\n",
       "  'Dec 31, 2024',\n",
       "  '2.69%',\n",
       "  '4,042,322,653'),\n",
       " ('VANGUARD INDEX FUNDS-Vanguard 500 Index Fund',\n",
       "  '3.94M',\n",
       "  'Dec 31, 2024',\n",
       "  '2.54%',\n",
       "  '3,814,336,969'),\n",
       " ('SCHWAB STRATEGIC TRUST-Schwab U.S. Dividend Equity ETF',\n",
       "  '2.88M',\n",
       "  'Nov 30, 2024',\n",
       "  '1.86%',\n",
       "  '2,789,775,380'),\n",
       " ('WASHINGTON MUTUAL INVESTORS FUND',\n",
       "  '2.45M',\n",
       "  'Dec 31, 2024',\n",
       "  '1.58%',\n",
       "  '2,369,252,878'),\n",
       " ('Fidelity Concord Street Trust-Fidelity 500 Index Fund',\n",
       "  '1.82M',\n",
       "  'Jan 31, 2025',\n",
       "  '1.17%',\n",
       "  '1,757,060,832'),\n",
       " ('SPDR S&P 500 ETF TRUST', '1.8M', 'Feb 28, 2025', '1.16%', '1,741,732,535'),\n",
       " ('iShares Trust-iShares Core S&P 500 ETF',\n",
       "  '1.71M',\n",
       "  'Feb 28, 2025',\n",
       "  '1.10%',\n",
       "  '1,655,242,256'),\n",
       " ('VANGUARD INDEX FUNDS-Vanguard Value Index Fund',\n",
       "  '1.14M',\n",
       "  'Dec 31, 2024',\n",
       "  '0.73%',\n",
       "  '1,098,929,387'),\n",
       " ('GROWTH FUND OF AMERICA', '1.09M', 'Dec 31, 2024', '0.70%', '1,050,664,994'),\n",
       " ('SELECT SECTOR SPDR TRUST-The Financial Select Sector SPDR Fund',\n",
       "  '1.09M',\n",
       "  'Feb 28, 2025',\n",
       "  '0.70%',\n",
       "  '1,052,480,850')]"
      ]
     },
     "execution_count": 198,
     "metadata": {},
     "output_type": "execute_result"
    }
   ],
   "source": [
    "r = request(f'https://finance.yahoo.com/quote/BLK/holders')\n",
    "soup = BeautifulSoup(r.text)\n",
    "\n",
    "\n",
    "holders = []\n",
    "for h3 in soup.find_all('h3', string=re.compile('Top.*Holders')):\n",
    "    for row in h3.find_next('table').find_all('tr')[1:]:\n",
    "        name, shares, date_reported, out, value = (tag.text.strip() for tag in row.find_all('td'))\n",
    "        holders.append((name, shares, date_reported, out, value))\n",
    "holders"
   ]
  },
  {
   "cell_type": "code",
   "execution_count": 205,
   "metadata": {},
   "outputs": [
    {
     "name": "stdout",
     "output_type": "stream",
     "text": [
      "============================== 10 largest holds of Blackrock Inc. ==============================\n",
      "| Name                                       | Shares | Date Reported | % Out | Value          |\n",
      "------------------------------------------------------------------------------------------------\n",
      "| Vanguard Group Inc                         | 13.38M | Dec 31, 2024  | 8.62% | 12,947,752,044 |\n",
      "| Blackrock Inc.                             | 10.05M | Dec 31, 2024  | 6.47% | 9,725,493,327  |\n",
      "| State Street Corporation                   | 6.3M   | Dec 31, 2024  | 4.06% | 6,100,242,469  |\n",
      "| Temasek Holdings (Private) Limited         | 5.09M  | Dec 31, 2024  | 3.28% | 4,929,549,042  |\n",
      "| Bank of America Corporation                | 4.99M  | Dec 31, 2024  | 3.22% | 4,833,220,621  |\n",
      "| Morgan Stanley                             | 4.78M  | Dec 31, 2024  | 3.08% | 4,629,727,691  |\n",
      "| Capital World Investors                    | 4.1M   | Dec 31, 2024  | 2.64% | 3,966,157,390  |\n",
      "| Charles Schwab Investment Management, Inc. | 3.74M  | Dec 31, 2024  | 2.41% | 3,618,374,611  |\n",
      "| Capital Research Global Investors          | 3.26M  | Dec 31, 2024  | 2.10% | 3,151,117,062  |\n",
      "| Geode Capital Management, LLC              | 3.01M  | Dec 31, 2024  | 1.94% | 2,910,368,121  |\n"
     ]
    }
   ],
   "source": [
    "fields = [\"Name\", \"Shares\", \"Date Reported\", \"% Out\", \"Value\"]\n",
    "\n",
    "print(draw_table(fields, holders[:10], \" 10 largest holds of Blackrock Inc. \"))"
   ]
  },
  {
   "cell_type": "code",
   "execution_count": null,
   "metadata": {},
   "outputs": [],
   "source": []
  }
 ],
 "metadata": {
  "kernelspec": {
   "display_name": ".venv",
   "language": "python",
   "name": "python3"
  },
  "language_info": {
   "codemirror_mode": {
    "name": "ipython",
    "version": 3
   },
   "file_extension": ".py",
   "mimetype": "text/x-python",
   "name": "python",
   "nbconvert_exporter": "python",
   "pygments_lexer": "ipython3",
   "version": "3.9.6"
  }
 },
 "nbformat": 4,
 "nbformat_minor": 2
}
